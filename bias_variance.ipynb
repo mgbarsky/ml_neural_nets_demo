{
 "cells": [
  {
   "cell_type": "markdown",
   "metadata": {},
   "source": [
    "[link](http://ethen8181.github.io/machine-learning/regularization/regularization.html)"
   ]
  },
  {
   "cell_type": "code",
   "execution_count": 2,
   "metadata": {},
   "outputs": [],
   "source": [
    "import numpy as np"
   ]
  },
  {
   "cell_type": "code",
   "execution_count": 1,
   "metadata": {},
   "outputs": [],
   "source": [
    "def generate_random_data(size, seed):\n",
    "    \"\"\"Example of collinear features existing within the data\"\"\"\n",
    "    rstate = np.random.RandomState(seed)\n",
    "    X_seed = rstate.normal(0, 1, size)\n",
    "    X1 = X_seed + rstate.normal(0, .1, size)\n",
    "    X2 = X_seed + rstate.normal(0, .1, size)\n",
    "    X3 = X_seed + rstate.normal(0, .1, size)\n",
    "    y = X1 + X2 + X3 + rstate.normal(0, 1, size)\n",
    "    X = np.array([X1, X2, X3]).T\n",
    "    return X, y\n",
    "\n",
    "\n",
    "def pretty_print_linear(estimator, names = None, sort = False):\n",
    "    \"\"\"A helper method for pretty-printing linear models' coefficients\"\"\"\n",
    "    coef = estimator.coef_\n",
    "    if names is None:\n",
    "        names = ['X%s' % x for x in range(1, len(coef) + 1)]\n",
    "\n",
    "    info = zip(coef, names)\n",
    "    if sort:\n",
    "        info = sorted(info, key = lambda x: -np.abs(x[0]))\n",
    "    \n",
    "    output = ['{} * {}'.format(round(coef, 3), name) for coef, name in info]\n",
    "    output = ' + '.join(output)\n",
    "    return output"
   ]
  },
  {
   "cell_type": "code",
   "execution_count": 3,
   "metadata": {},
   "outputs": [],
   "source": [
    "import matplotlib.pyplot as plt\n",
    "\n",
    "from sklearn.linear_model import Ridge, RidgeCV #L2 regularization\n",
    "from sklearn.linear_model import Lasso, LassoCV #L1 regularization\n",
    "from sklearn.linear_model import LinearRegression"
   ]
  },
  {
   "cell_type": "code",
   "execution_count": null,
   "metadata": {},
   "outputs": [],
   "source": []
  },
  {
   "cell_type": "code",
   "execution_count": 4,
   "metadata": {},
   "outputs": [
    {
     "name": "stdout",
     "output_type": "stream",
     "text": [
      "Random seed: 0\n",
      "Lasso model: 0.486 * X1 + 1.508 * X2 + 0.0 * X3\n",
      "Ridge model: 0.938 * X1 + 1.059 * X2 + 0.877 * X3\n",
      "\n",
      "Random seed: 1\n",
      "Lasso model: 1.034 * X1 + 0.626 * X2 + 0.0 * X3\n",
      "Ridge model: 0.984 * X1 + 1.068 * X2 + 0.759 * X3\n",
      "\n",
      "Random seed: 2\n",
      "Lasso model: 1.361 * X1 + 0.0 * X2 + 0.782 * X3\n",
      "Ridge model: 0.972 * X1 + 0.943 * X2 + 1.085 * X3\n",
      "\n",
      "Random seed: 3\n",
      "Lasso model: 0.0 * X1 + 1.008 * X2 + 1.134 * X3\n",
      "Ridge model: 0.919 * X1 + 1.005 * X2 + 1.033 * X3\n",
      "\n",
      "Random seed: 4\n",
      "Lasso model: 0.27 * X1 + 0.0 * X2 + 1.832 * X3\n",
      "Ridge model: 0.964 * X1 + 0.982 * X2 + 1.098 * X3\n",
      "\n",
      "Random seed: 5\n",
      "Lasso model: 0.0 * X1 + 0.035 * X2 + 1.854 * X3\n",
      "Ridge model: 0.758 * X1 + 1.011 * X2 + 1.139 * X3\n",
      "\n",
      "Random seed: 6\n",
      "Lasso model: 0.486 * X1 + 0.0 * X2 + 1.601 * X3\n",
      "Ridge model: 1.016 * X1 + 0.89 * X2 + 1.091 * X3\n",
      "\n",
      "Random seed: 7\n",
      "Lasso model: 0.441 * X1 + 0.036 * X2 + 1.582 * X3\n",
      "Ridge model: 1.018 * X1 + 1.039 * X2 + 0.901 * X3\n",
      "\n",
      "Random seed: 8\n",
      "Lasso model: 0.28 * X1 + 1.974 * X2 + 0.0 * X3\n",
      "Ridge model: 0.907 * X1 + 1.071 * X2 + 1.008 * X3\n",
      "\n",
      "Random seed: 9\n",
      "Lasso model: 0.0 * X1 + 0.0 * X2 + 1.912 * X3\n",
      "Ridge model: 0.896 * X1 + 0.903 * X2 + 0.98 * X3\n",
      "\n"
     ]
    }
   ],
   "source": [
    "# We run the two method 10 times with different random seeds\n",
    "# confirming that Ridge is more stable than Lasso\n",
    "size = 100\n",
    "for seed in range(10):\n",
    "    print('Random seed:', seed)\n",
    "    X, y = generate_random_data(size, seed)\n",
    " \n",
    "    lasso = Lasso()\n",
    "    lasso.fit(X, y)\n",
    "    print('Lasso model:', pretty_print_linear(lasso))\n",
    " \n",
    "    ridge = Ridge(alpha = 10)\n",
    "    ridge.fit(X, y)\n",
    "    print('Ridge model:', pretty_print_linear(ridge))\n",
    "    print()"
   ]
  },
  {
   "cell_type": "code",
   "execution_count": null,
   "metadata": {},
   "outputs": [],
   "source": []
  }
 ],
 "metadata": {
  "kernelspec": {
   "display_name": "Python 3",
   "language": "python",
   "name": "python3"
  },
  "language_info": {
   "codemirror_mode": {
    "name": "ipython",
    "version": 3
   },
   "file_extension": ".py",
   "mimetype": "text/x-python",
   "name": "python",
   "nbconvert_exporter": "python",
   "pygments_lexer": "ipython3",
   "version": "3.8.3"
  }
 },
 "nbformat": 4,
 "nbformat_minor": 4
}
